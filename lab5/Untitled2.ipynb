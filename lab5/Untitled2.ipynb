{
 "cells": [
  {
   "cell_type": "code",
   "execution_count": 3,
   "id": "6434641e-805c-4997-ac3d-cee1ccd9e8a9",
   "metadata": {},
   "outputs": [],
   "source": [
    "import numpy as np\n",
    "from sklearn.utils import shuffle\n",
    "from sklearn.metrics import mean_squared_error, mean_absolute_error \n",
    "from sklearn import preprocessing\n",
    "from sklearn.linear_model import LinearRegression, Ridge, Lasso\n",
    "import pdb\n"
   ]
  },
  {
   "cell_type": "code",
   "execution_count": 4,
   "id": "44602f05-a627-4baa-8bb5-0d9decc2543e",
   "metadata": {},
   "outputs": [
    {
     "name": "stdout",
     "output_type": "stream",
     "text": [
      "The first 4 samples are:\n",
      "  [[2.0150e+03 4.1000e+04 1.9670e+01 1.5820e+03 1.2620e+02 5.0000e+00\n",
      "  1.0000e+00 0.0000e+00 1.0000e+00 0.0000e+00 0.0000e+00 0.0000e+00\n",
      "  1.0000e+00 0.0000e+00]\n",
      " [2.0110e+03 4.6000e+04 1.8200e+01 1.1990e+03 8.8700e+01 5.0000e+00\n",
      "  1.0000e+00 0.0000e+00 0.0000e+00 1.0000e+00 0.0000e+00 0.0000e+00\n",
      "  1.0000e+00 0.0000e+00]\n",
      " [2.0120e+03 8.7000e+04 2.0770e+01 1.2480e+03 8.8760e+01 7.0000e+00\n",
      "  1.0000e+00 0.0000e+00 1.0000e+00 0.0000e+00 0.0000e+00 0.0000e+00\n",
      "  1.0000e+00 0.0000e+00]\n",
      " [2.0130e+03 8.6999e+04 2.3080e+01 1.4610e+03 6.3100e+01 5.0000e+00\n",
      "  1.0000e+00 0.0000e+00 1.0000e+00 0.0000e+00 0.0000e+00 0.0000e+00\n",
      "  1.0000e+00 0.0000e+00]]\n",
      "The first 4 prices are:\n",
      "  [12.5  4.5  6.   3.5]\n"
     ]
    }
   ],
   "source": [
    "\n",
    "# load training data\n",
    "training_data = np.load('data/training_data.npy')    \n",
    "prices = np.load('data/prices.npy')  \n",
    "  \n",
    "# print the first 4 samples\n",
    "print('The first 4 samples are:\\n ', training_data[:4])\n",
    "print('The first 4 prices are:\\n ', prices[:4])"
   ]
  },
  {
   "cell_type": "code",
   "execution_count": 5,
   "id": "af02942b-ac10-4f66-b344-2ca2c3d57e71",
   "metadata": {},
   "outputs": [],
   "source": [
    "training_data, prices = shuffle(training_data, prices, random_state=0)"
   ]
  },
  {
   "cell_type": "code",
   "execution_count": 6,
   "id": "47f56179-fe81-4f59-a6fb-c7ce461f2820",
   "metadata": {},
   "outputs": [],
   "source": [
    "# normalizare \n",
    "def normalize_data(training, testing=None):\n",
    "    scaler = preprocessing.StandardScaler() \n",
    "    scaler.fit(training)    \n",
    "    scaled_x_train = scaler.transform(training) \n",
    "    if testing is None:\n",
    "        return scaled_x_train\n",
    "    scaled_x_test = scaler.transform(testing) \n",
    "    return scaled_x_train, scaled_x_test"
   ]
  },
  {
   "cell_type": "code",
   "execution_count": 7,
   "id": "970efea9-aafe-4764-a2d4-abac83ba95e6",
   "metadata": {},
   "outputs": [
    {
     "name": "stdout",
     "output_type": "stream",
     "text": [
      "4879\n"
     ]
    }
   ],
   "source": [
    "print(len(training_data))\n",
    "num_samples_fold = len(training_data) // 3\n",
    "training_data_1, prices_1 = training_data[:num_samples_fold], prices[:num_samples_fold]\n",
    "training_data_2, prices_2 = training_data[num_samples_fold: 2 * num_samples_fold], prices[num_samples_fold: 2 * num_samples_fold]\n",
    "training_data_3, prices_3 = training_data[2 * num_samples_fold:], prices[2 * num_samples_fold:]\n"
   ]
  },
  {
   "cell_type": "code",
   "execution_count": 8,
   "id": "4674a529-040e-4896-bb59-d6c4d933f9cd",
   "metadata": {},
   "outputs": [],
   "source": [
    "def normalizare_train_model(model, training_samples, labels, testing_data, testing_labels): \n",
    "    training_samples, testing_data = normalize_data(training_samples, testing_data) \n",
    "    model.fit(training_samples, labels) \n",
    "    return mean_absolute_error(testing_labels, model.predict(testing_data)), mean_squared_error(testing_labels, model.predict(testing_data))"
   ]
  },
  {
   "cell_type": "code",
   "execution_count": 19,
   "id": "5c6e21ec-de90-4638-95ef-0dc9b78cf806",
   "metadata": {},
   "outputs": [
    {
     "name": "stdout",
     "output_type": "stream",
     "text": [
      "Mean MAE 1.320398489634196\n",
      "Mean MSE 3.167433420817057\n"
     ]
    },
    {
     "ename": "TypeError",
     "evalue": "fit() missing 2 required positional arguments: 'X' and 'y'",
     "output_type": "error",
     "traceback": [
      "\u001b[1;31m---------------------------------------------------------------------------\u001b[0m",
      "\u001b[1;31mTypeError\u001b[0m                                 Traceback (most recent call last)",
      "\u001b[1;32m~\\AppData\\Local\\Temp/ipykernel_9724/3952318372.py\u001b[0m in \u001b[0;36m<module>\u001b[1;34m\u001b[0m\n\u001b[0;32m      7\u001b[0m \u001b[0mprint\u001b[0m\u001b[1;33m(\u001b[0m\u001b[1;34m'Mean MSE'\u001b[0m\u001b[1;33m,\u001b[0m \u001b[1;33m(\u001b[0m\u001b[0mmse_1\u001b[0m \u001b[1;33m+\u001b[0m \u001b[0mmse_2\u001b[0m \u001b[1;33m+\u001b[0m \u001b[0mmse_3\u001b[0m\u001b[1;33m)\u001b[0m \u001b[1;33m/\u001b[0m \u001b[1;36m3\u001b[0m\u001b[1;33m)\u001b[0m\u001b[1;33m\u001b[0m\u001b[1;33m\u001b[0m\u001b[0m\n\u001b[0;32m      8\u001b[0m \u001b[1;33m\u001b[0m\u001b[0m\n\u001b[1;32m----> 9\u001b[1;33m \u001b[0mmodel\u001b[0m\u001b[1;33m.\u001b[0m\u001b[0mfit\u001b[0m\u001b[1;33m(\u001b[0m\u001b[1;33m)\u001b[0m\u001b[1;33m\u001b[0m\u001b[1;33m\u001b[0m\u001b[0m\n\u001b[0m\u001b[0;32m     10\u001b[0m \u001b[0mprint\u001b[0m\u001b[1;33m(\u001b[0m\u001b[0mmodel\u001b[0m\u001b[1;33m.\u001b[0m\u001b[0mcoef\u001b[0m\u001b[1;33m)\u001b[0m\u001b[1;33m\u001b[0m\u001b[1;33m\u001b[0m\u001b[0m\n\u001b[0;32m     11\u001b[0m \u001b[0mprint\u001b[0m\u001b[1;33m(\u001b[0m\u001b[0mmodel\u001b[0m\u001b[1;33m.\u001b[0m\u001b[0mintercept\u001b[0m\u001b[1;33m)\u001b[0m\u001b[1;33m\u001b[0m\u001b[1;33m\u001b[0m\u001b[0m\n",
      "\u001b[1;31mTypeError\u001b[0m: fit() missing 2 required positional arguments: 'X' and 'y'"
     ]
    }
   ],
   "source": [
    "\n",
    "model = LinearRegression()\n",
    "mae_1, mse_1 = normalizare_train_model(model, np.concatenate((training_data_1, training_data_2)), np.concatenate((prices_1, prices_2)), training_data_3, prices_3)\n",
    "mae_2, mse_2 = normalizare_train_model(model, np.concatenate((training_data_1, training_data_3)), np.concatenate((prices_1, prices_3)), training_data_2, prices_2)\n",
    "mae_3, mse_3 = normalizare_train_model(model, np.concatenate((training_data_3, training_data_2)), np.concatenate((prices_3, prices_2)), training_data_1, prices_1)\n",
    "\n",
    "print('Mean MAE', (mae_1 + mae_2 + mae_3) / 3)\n",
    "print('Mean MSE', (mse_1 + mse_2 + mse_3) / 3)\n"
   ]
  },
  {
   "cell_type": "code",
   "execution_count": 17,
   "id": "2d800338",
   "metadata": {},
   "outputs": [
    {
     "name": "stdout",
     "output_type": "stream",
     "text": [
      "1\n",
      "Mean MAE 1.3195726076761882\n",
      "Mean MSE 3.1674604415893555\n",
      "10\n",
      "Mean MAE 1.3193690776824951\n",
      "Mean MSE 3.167321523030599\n",
      "100\n",
      "Mean MAE 1.3185885747273762\n",
      "Mean MSE 3.172305425008138\n",
      "1000\n",
      "Mean MAE 1.3665776252746582\n",
      "Mean MSE 3.433171590169271\n"
     ]
    }
   ],
   "source": [
    "alphaValues = [1, 10, 100, 1000]\n",
    "for alpha in alphaValues:\n",
    "    model = Ridge(alpha)\n",
    "    mae_1, mse_1 = normalizare_train_model(model, np.concatenate((training_data_1, training_data_2)), np.concatenate((prices_1, prices_2)), training_data_3, prices_3)\n",
    "    mae_2, mse_2 = normalizare_train_model(model, np.concatenate((training_data_1, training_data_3)), np.concatenate((prices_1, prices_3)), training_data_2, prices_2)\n",
    "    mae_3, mse_3 = normalizare_train_model(model, np.concatenate((training_data_3, training_data_2)), np.concatenate((prices_3, prices_2)), training_data_1, prices_1)\n",
    "    \n",
    "    print(alpha)\n",
    "    print('Mean MAE', (mae_1 + mae_2 + mae_3) / 3)\n",
    "    print('Mean MSE', (mse_1 + mse_2 + mse_3) / 3)"
   ]
  },
  {
   "cell_type": "code",
   "execution_count": 21,
   "id": "f1e2015a",
   "metadata": {},
   "outputs": [
    {
     "name": "stdout",
     "output_type": "stream",
     "text": [
      "[ 1.61531    -0.1662288  -0.4191895   0.46559122  1.2771956   0.1342993\n",
      " -0.09638092  0.          0.3546112  -0.35461098  0.          0.\n",
      " -0.23622341  0.23622338]\n",
      "5.69513\n"
     ]
    }
   ],
   "source": [
    "model = Ridge(alpha = 100)\n",
    "x_train = normalize_data(training_data)\n",
    "model.fit(x_train, prices)\n",
    "# f(x) = wx + b\n",
    "print(model.coef_) #w\n",
    "print(model.intercept_) #b"
   ]
  },
  {
   "cell_type": "code",
   "execution_count": 26,
   "id": "13ac65ac",
   "metadata": {},
   "outputs": [],
   "source": [
    "# CountVectorizer(maxfeatures = ceva) --- pentru competitie\n",
    "# text preprocessing\n",
    "# normalizare(Lab4)\n",
    "# antrenare\n",
    "# testare\n",
    "\n",
    "# Tensuflow, Keras, Pytorch - Retele neuronale "
   ]
  },
  {
   "cell_type": "code",
   "execution_count": null,
   "id": "97aa10ba",
   "metadata": {},
   "outputs": [],
   "source": []
  }
 ],
 "metadata": {
  "kernelspec": {
   "display_name": "Python 3 (ipykernel)",
   "language": "python",
   "name": "python3"
  },
  "language_info": {
   "codemirror_mode": {
    "name": "ipython",
    "version": 3
   },
   "file_extension": ".py",
   "mimetype": "text/x-python",
   "name": "python",
   "nbconvert_exporter": "python",
   "pygments_lexer": "ipython3",
   "version": "3.9.7"
  }
 },
 "nbformat": 4,
 "nbformat_minor": 5
}
