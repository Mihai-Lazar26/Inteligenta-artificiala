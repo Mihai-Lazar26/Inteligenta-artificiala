{
 "cells": [
  {
   "cell_type": "code",
   "execution_count": 15,
   "id": "c0f0b140",
   "metadata": {},
   "outputs": [
    {
     "data": {
      "image/png": "[encoded data removed]",
      "text/plain": [
       "<Figure size 432x288 with 1 Axes>"
      ]
     },
     "metadata": {
      "needs_background": "light"
     },
     "output_type": "display_data"
    }
   ],
   "source": [
    "import numpy as np\n",
    "import matplotlib.pyplot as plt\n",
    "\n",
    "train_images = np.loadtxt('data/train_images.txt')        # incarcam imaginile\n",
    "train_labels = np.loadtxt('data/train_labels.txt', 'int') # incarcam etichetele avand\n",
    "                                                          # tipul de date int\n",
    "image = train_images[0, :] # prima imagine \n",
    "image = np.reshape(image, (28, 28))\n",
    "plt.imshow(image.astype(np.uint8), cmap='gray') \n",
    "plt.show()"
   ]
  },
  {
   "cell_type": "code",
   "execution_count": 17,
   "id": "04aaaedf",
   "metadata": {},
   "outputs": [
    {
     "name": "stdout",
     "output_type": "stream",
     "text": [
      "(1000, 784)\n"
     ]
    }
   ],
   "source": [
    "print(train_images.shape)"
   ]
  },
  {
   "cell_type": "code",
   "execution_count": 13,
   "id": "f093a9c9",
   "metadata": {},
   "outputs": [
    {
     "name": "stdout",
     "output_type": "stream",
     "text": [
      "(500, 784)\n"
     ]
    }
   ],
   "source": [
    "test_images = np.loadtxt('data/test_images.txt')\n",
    "test_labels = np.loadtxt('data/test_labels.txt', 'int')\n",
    "print(test_images.shape)"
   ]
  },
  {
   "cell_type": "code",
   "execution_count": 14,
   "id": "8c619892",
   "metadata": {},
   "outputs": [
    {
     "name": "stdout",
     "output_type": "stream",
     "text": [
      "[  0.    63.75 127.5  191.25 255.  ]\n"
     ]
    }
   ],
   "source": [
    "bins = np.linspace(0, 255, num= 5)\n",
    "print(bins)"
   ]
  },
  {
   "cell_type": "code",
   "execution_count": 20,
   "id": "02fc4966",
   "metadata": {},
   "outputs": [],
   "source": [
    "def values_to_bins(x, bins):\n",
    "    return np.digitize(x, bins) - 1"
   ]
  },
  {
   "cell_type": "code",
   "execution_count": 21,
   "id": "44782feb",
   "metadata": {},
   "outputs": [
    {
     "name": "stdout",
     "output_type": "stream",
     "text": [
      "[0 1 2 3 4]\n"
     ]
    }
   ],
   "source": [
    "x_train = values_to_bins(train_images, bins)\n",
    "x_test = values_to_bins(test_images, bins)\n",
    "\n",
    "print(np.unique(x_train))"
   ]
  },
  {
   "cell_type": "code",
   "execution_count": 26,
   "id": "4b67ddc5",
   "metadata": {},
   "outputs": [
    {
     "data": {
      "text/plain": [
       "0.836"
      ]
     },
     "execution_count": 26,
     "metadata": {},
     "output_type": "execute_result"
    }
   ],
   "source": [
    "from sklearn.naive_bayes import MultinomialNB\n",
    "naive_bayes_model = MultinomialNB()\n",
    "naive_bayes_model.fit(x_train, train_labels)\n",
    "naive_bayes_model.predict(x_test)\n",
    "naive_bayes_model.score(x_test, test_labels)"
   ]
  },
  {
   "cell_type": "code",
   "execution_count": 35,
   "id": "e102aa7d",
   "metadata": {
    "scrolled": true
   },
   "outputs": [
    {
     "name": "stdout",
     "output_type": "stream",
     "text": [
      "3 0.826\n",
      "5 0.836\n",
      "7 0.842\n",
      "9 0.842\n",
      "11 0.842\n",
      "95 0.846\n"
     ]
    }
   ],
   "source": [
    "bins_list = [3, 5, 7, 9, 11, 95]\n",
    "for bin in bins_list:\n",
    "    bins = np.linspace(0, 255, num = bin)\n",
    "    x_train = values_to_bins(train_images, bins)\n",
    "    x_test = values_to_bins(test_images, bins)\n",
    "    naive_bayes_model = MultinomialNB()\n",
    "    naive_bayes_model.fit(x_train, train_labels)\n",
    "    print(bin, naive_bayes_model.score(x_test, test_labels))"
   ]
  },
  {
   "cell_type": "code",
   "execution_count": 37,
   "id": "b1e474f0",
   "metadata": {},
   "outputs": [
    {
     "name": "stdout",
     "output_type": "stream",
     "text": [
      "91 0.846\n"
     ]
    }
   ],
   "source": [
    "bins_list = list(range(2, 1001))\n",
    "opt_bin = 0\n",
    "opt_val = 0\n",
    "for bin in bins_list:\n",
    "    bins = np.linspace(0, 255, num = bin)\n",
    "    x_train = values_to_bins(train_images, bins)\n",
    "    x_test = values_to_bins(test_images, bins)\n",
    "    naive_bayes_model = MultinomialNB()\n",
    "    naive_bayes_model.fit(x_train, train_labels)\n",
    "    val = naive_bayes_model.score(x_test, test_labels)\n",
    "    if val > opt_val:\n",
    "        opt_val = val\n",
    "        opt_bin = bin\n",
    "print(opt_bin, opt_val)\n",
    "        \n",
    "        "
   ]
  },
  {
   "cell_type": "code",
   "execution_count": null,
   "id": "7607c97d",
   "metadata": {},
   "outputs": [],
   "source": []
  }
 ],
 "metadata": {
  "kernelspec": {
   "display_name": "Python 3 (ipykernel)",
   "language": "python",
   "name": "python3"
  },
  "language_info": {
   "codemirror_mode": {
    "name": "ipython",
    "version": 3
   },
   "file_extension": ".py",
   "mimetype": "text/x-python",
   "name": "python",
   "nbconvert_exporter": "python",
   "pygments_lexer": "ipython3",
   "version": "3.9.7"
  }
 },
 "nbformat": 4,
 "nbformat_minor": 5
}
