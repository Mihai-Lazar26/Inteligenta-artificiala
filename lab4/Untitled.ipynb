{
 "cells": [
  {
   "cell_type": "code",
   "execution_count": 1,
   "id": "d1a8d756",
   "metadata": {},
   "outputs": [],
   "source": [
    "from sklearn import preprocessing \n",
    "from sklearn import svm\n",
    "import numpy as np"
   ]
  },
  {
   "cell_type": "code",
   "execution_count": 2,
   "id": "ed8d2b5b",
   "metadata": {},
   "outputs": [],
   "source": [
    "def normalize_data(train_data, test_data, type=None):\n",
    "    scaler = None\n",
    "    if type == 'standard':\n",
    "        scaler = preprocessing.StandardScaler()\n",
    "\n",
    "\n",
    "    elif type == 'l1':\n",
    "        scaler = preprocessing.Normalizer(norm='l1')\n",
    "\n",
    "    elif type == 'l2':\n",
    "        scaler = preprocessing.Normalizer(norm='l2')\n",
    "\n",
    "    if scaler is not None:\n",
    "        scaler.fit(train_data)\n",
    "        scaled_train_data = scaler.transform(train_data)\n",
    "        scaled_test_data = scaler.transform(test_data) \n",
    "        return (scaled_train_data, scaled_test_data)\n",
    "    else:\n",
    "        print(\"No scaling was performed. Raw data is returned.\")\n",
    "        return (train_data, test_data)"
   ]
  },
  {
   "cell_type": "code",
   "execution_count": 3,
   "id": "022e2175",
   "metadata": {},
   "outputs": [],
   "source": [
    "def accuracy_score(y_true, y_pred):\n",
    "    return (y_true == y_pred).mean()"
   ]
  },
  {
   "cell_type": "code",
   "execution_count": 4,
   "id": "0c590188",
   "metadata": {},
   "outputs": [],
   "source": [
    "# load data\n",
    "training_data = np.load('data/training_sentences.npy', allow_pickle=True)\n",
    "training_labels = np.load('data/training_labels.npy')\n",
    "\n",
    "test_data = np.load('data/test_sentences.npy', allow_pickle=True)\n",
    "test_labels = np.load('data/test_labels.npy')"
   ]
  },
  {
   "cell_type": "code",
   "execution_count": 5,
   "id": "148c3b14",
   "metadata": {
    "scrolled": true
   },
   "outputs": [
    {
     "name": "stdout",
     "output_type": "stream",
     "text": [
      "[list(['Probably', 'not', 'still', 'going', 'over', 'some', 'stuff', 'here'])\n",
      " list(['I', 'HAVE', 'A', 'DATE', 'ON', 'SUNDAY', 'WITH', 'WILL'])\n",
      " list(['Thanks', '4', 'your', 'continued', 'support', 'Your', 'question', 'this', 'week', 'will', 'enter', 'u', 'in2', 'our', 'draw', '4', 'Â£100', 'cash', 'Name', 'the', 'NEW', 'US', 'President', 'txt', 'ans', 'to', '80082'])\n",
      " ...\n",
      " list(['OH', 'FUCK', 'JUSWOKE', 'UP', 'IN', 'A', 'BED', 'ON', 'A', 'BOATIN', 'THE', 'DOCKS', 'SLEPT', 'WID', '25', 'YEAR', 'OLD', 'SPINOUT', 'GIV', 'U', 'DA', 'GOSSIP', 'L8R', 'XXX'])\n",
      " list(['NOT', 'MUCH', 'NO', 'FIGHTS', 'IT', 'WAS', 'A', 'GOOD', 'NITE'])\n",
      " list(['Did', 'he', 'just', 'say', 'somebody', 'is', 'named', 'tampa'])]\n"
     ]
    }
   ],
   "source": [
    "print(training_data)"
   ]
  },
  {
   "cell_type": "code",
   "execution_count": 18,
   "id": "ac108988",
   "metadata": {},
   "outputs": [],
   "source": [
    "# class Bag_of_Words:\n",
    "#     def __init__(self):\n",
    "#         self.voc = {}\n",
    "    \n",
    "#     def create_voc(self, data):\n",
    "#         for document in data:\n",
    "#             for word in document:\n",
    "#                 if word not in voc:\n",
    "#                     self.voc[word] = len(self.voc)\n",
    "                    \n",
    "#     def get_features(self, data):\n",
    "#         features = np.zeros((len(data), len(self.voc)))\n",
    "#         for index, document in enumerate(data):\n",
    "#             for word in document:\n",
    "#                 if word in self.voc:\n",
    "#                     features[index][self.voc[word]] += 1\n",
    "#         return features\n",
    "        "
   ]
  },
  {
   "cell_type": "code",
   "execution_count": 19,
   "id": "27171832",
   "metadata": {
    "scrolled": true
   },
   "outputs": [
    {
     "name": "stdout",
     "output_type": "stream",
     "text": [
      "9522\n"
     ]
    }
   ],
   "source": [
    "bow = Bag_of_Words()\n",
    "bow.build_vocabulary(training_data)\n",
    "print(len(bow.dict))"
   ]
  },
  {
   "cell_type": "code",
   "execution_count": 20,
   "id": "23cbde36",
   "metadata": {},
   "outputs": [],
   "source": [
    "class Bag_of_Words:\n",
    "    def __init__(self):\n",
    "        self.dict = {}\n",
    "    def build_vocabulary(self, data):\n",
    "        for document in data:\n",
    "            for word in document:\n",
    "                if word not in self.dict:\n",
    "                    self.dict[word]=len(self.dict)\n",
    "    def get_features(self, data):\n",
    "        features = np.zeros((len(data), len(self.dict)))\n",
    "        for index, document in enumerate(data):\n",
    "            for word in document:\n",
    "                if word in self.dict:\n",
    "                    features[index][self.dict[word]]+=1\n",
    "        return features"
   ]
  },
  {
   "cell_type": "code",
   "execution_count": 21,
   "id": "022ed7e4",
   "metadata": {},
   "outputs": [
    {
     "name": "stdout",
     "output_type": "stream",
     "text": [
      "(3734, 9522)\n"
     ]
    }
   ],
   "source": [
    "x_train = bow.get_features(training_data)\n",
    "x_test = bow.get_features(test_data)\n",
    "print(x_train.shape)"
   ]
  },
  {
   "cell_type": "code",
   "execution_count": 27,
   "id": "25c0f2a7",
   "metadata": {},
   "outputs": [],
   "source": [
    "scaled_train = normalize_data(x_train, x_test, 'l2')\n",
    "scaled_test = normalize_data(x_train, x_test, 'l2')"
   ]
  },
  {
   "cell_type": "code",
   "execution_count": 34,
   "id": "cb506b79",
   "metadata": {},
   "outputs": [],
   "source": [
    "svm_clf = svm.SVC(C = 10, kernel = 'linear')"
   ]
  },
  {
   "cell_type": "code",
   "execution_count": 38,
   "id": "18e7e7d8",
   "metadata": {
    "scrolled": true
   },
   "outputs": [
    {
     "ename": "NameError",
     "evalue": "name 'train_labels' is not defined",
     "output_type": "error",
     "traceback": [
      "\u001b[1;31m---------------------------------------------------------------------------\u001b[0m",
      "\u001b[1;31mNameError\u001b[0m                                 Traceback (most recent call last)",
      "\u001b[1;32m~\\AppData\\Local\\Temp/ipykernel_9116/384921648.py\u001b[0m in \u001b[0;36m<module>\u001b[1;34m\u001b[0m\n\u001b[1;32m----> 1\u001b[1;33m \u001b[0msvm_clf\u001b[0m\u001b[1;33m.\u001b[0m\u001b[0mfit\u001b[0m\u001b[1;33m(\u001b[0m\u001b[0mscaled_train\u001b[0m\u001b[1;33m,\u001b[0m \u001b[0mtrain_labels\u001b[0m\u001b[1;33m)\u001b[0m\u001b[1;33m\u001b[0m\u001b[1;33m\u001b[0m\u001b[0m\n\u001b[0m",
      "\u001b[1;31mNameError\u001b[0m: name 'train_labels' is not defined"
     ]
    }
   ],
   "source": [
    "svm_clf.fit(scaled_train, training_labels)\n"
   ]
  },
  {
   "cell_type": "code",
   "execution_count": null,
   "id": "a96e2bb2",
   "metadata": {},
   "outputs": [],
   "source": [
    "predicted = svm_clf.predict(scaled_test)\n",
    "print(accuracy_score(predicted, test_labels))"
   ]
  }
 ],
 "metadata": {
  "kernelspec": {
   "display_name": "Python 3 (ipykernel)",
   "language": "python",
   "name": "python3"
  },
  "language_info": {
   "codemirror_mode": {
    "name": "ipython",
    "version": 3
   },
   "file_extension": ".py",
   "mimetype": "text/x-python",
   "name": "python",
   "nbconvert_exporter": "python",
   "pygments_lexer": "ipython3",
   "version": "3.9.7"
  }
 },
 "nbformat": 4,
 "nbformat_minor": 5
}
