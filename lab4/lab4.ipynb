{
 "cells": [
  {
   "cell_type": "code",
   "execution_count": 2,
   "id": "f2ebcc04",
   "metadata": {},
   "outputs": [],
   "source": [
    "# Pt proiect, mai bine ne chinuim cu SVM decat cu k-NN\n",
    "# Pt proiect, daca vrem sa folosim Kernel, mai ok ar fi cu metoda rbf decat cea liniara\n",
    "\n",
    "# Pt colocviu, sa ne uitam pe Curs4 -> Forma primala/duala; ar fi ok sa ne uitam pe tot cursul 4 ca la ultimul colocviu a dat exact din el."
   ]
  },
  {
   "cell_type": "code",
   "execution_count": 3,
   "id": "366682c4",
   "metadata": {},
   "outputs": [],
   "source": [
    "# SVM - hard margin -> (nu greseste deloc in separarea datelor)\n",
    "# SVM - soft margin -> (poate gresi putin, dar e mai ok distanta per total (uitandu-ne la toate datele))"
   ]
  },
  {
   "cell_type": "code",
   "execution_count": 4,
   "id": "131c429f",
   "metadata": {},
   "outputs": [],
   "source": [
    "import numpy as np"
   ]
  },
  {
   "cell_type": "code",
   "execution_count": 5,
   "id": "0c3c5cc8",
   "metadata": {},
   "outputs": [],
   "source": [
    "# preprocesare pt proiect/colocviu:\n",
    "from sklearn import preprocessing\n",
    "\n",
    "\n",
    "from sklearn import svm"
   ]
  },
  {
   "cell_type": "code",
   "execution_count": 6,
   "id": "8c454bc8",
   "metadata": {},
   "outputs": [],
   "source": [
    "# functie ok/utila la colocviu/proiect\n",
    "def normalize_data(train_data, test_data, type=None):\n",
    "    scaler = None\n",
    "    if type == 'standard':\n",
    "        scaler = preprocessing.StandardScaler()\n",
    "\n",
    "\n",
    "    elif type == 'l1':\n",
    "        scaler = preprocessing.Normalizer(norm='l1')\n",
    "\n",
    "    elif type == 'l2':\n",
    "        scaler = preprocessing.Normalizer(norm='l2')\n",
    "\n",
    "    if scaler is not None:\n",
    "        scaler.fit(train_data)\n",
    "        scaled_train_data = scaler.transform(train_data)\n",
    "        scaled_test_data = scaler.transform(test_data) \n",
    "        return (scaled_train_data, scaled_test_data)\n",
    "    else:\n",
    "        print(\"No scaling was performed. Raw data is returned.\")\n",
    "        return (train_data, test_data)\n",
    "\n",
    "    \n",
    "def accuracy_score(y_true, y_pred):\n",
    "    return (y_true == y_pred).mean()"
   ]
  },
  {
   "cell_type": "code",
   "execution_count": 7,
   "id": "d90fa8eb",
   "metadata": {},
   "outputs": [],
   "source": [
    "###################################################################"
   ]
  },
  {
   "cell_type": "code",
   "execution_count": 8,
   "id": "fae29e95",
   "metadata": {},
   "outputs": [],
   "source": [
    "# load data\n",
    "training_data = np.load('data/training_sentences.npy', allow_pickle=True)\n",
    "training_labels = np.load('data/training_labels.npy')\n",
    "\n",
    "test_data = np.load('data/test_sentences.npy', allow_pickle=True)\n",
    "test_labels = np.load('data/test_labels.npy')"
   ]
  },
  {
   "cell_type": "code",
   "execution_count": 9,
   "id": "a238a406",
   "metadata": {},
   "outputs": [],
   "source": [
    "training_labels = training_labels.astype(int)"
   ]
  },
  {
   "cell_type": "code",
   "execution_count": 10,
   "id": "8caf3440",
   "metadata": {},
   "outputs": [
    {
     "name": "stdout",
     "output_type": "stream",
     "text": [
      "[list(['Probably', 'not', 'still', 'going', 'over', 'some', 'stuff', 'here'])\n",
      " list(['I', 'HAVE', 'A', 'DATE', 'ON', 'SUNDAY', 'WITH', 'WILL'])\n",
      " list(['Thanks', '4', 'your', 'continued', 'support', 'Your', 'question', 'this', 'week', 'will', 'enter', 'u', 'in2', 'our', 'draw', '4', 'Â£100', 'cash', 'Name', 'the', 'NEW', 'US', 'President', 'txt', 'ans', 'to', '80082'])\n",
      " ...\n",
      " list(['OH', 'FUCK', 'JUSWOKE', 'UP', 'IN', 'A', 'BED', 'ON', 'A', 'BOATIN', 'THE', 'DOCKS', 'SLEPT', 'WID', '25', 'YEAR', 'OLD', 'SPINOUT', 'GIV', 'U', 'DA', 'GOSSIP', 'L8R', 'XXX'])\n",
      " list(['NOT', 'MUCH', 'NO', 'FIGHTS', 'IT', 'WAS', 'A', 'GOOD', 'NITE'])\n",
      " list(['Did', 'he', 'just', 'say', 'somebody', 'is', 'named', 'tampa'])]\n"
     ]
    }
   ],
   "source": [
    "print(training_data)"
   ]
  },
  {
   "cell_type": "code",
   "execution_count": 11,
   "id": "d1bdf635",
   "metadata": {},
   "outputs": [],
   "source": [
    "class BagOfWords:\n",
    "    \n",
    "    def __init__(self):\n",
    "        self.voc = dict()\n",
    "    \n",
    "    def CreateVoc(self, data):\n",
    "        for document in data:\n",
    "            for word in document:\n",
    "                if word in self.voc:\n",
    "                    continue\n",
    "                self.voc[word] = len(self.voc)\n",
    "    \n",
    "    def GetFeatures(self, data):\n",
    "        features = np.zeros((len(data), len(self.voc)))\n",
    "        for i, document in enumerate(data):\n",
    "            for word in document:\n",
    "                if word not in self.voc:\n",
    "                    continue\n",
    "                features[i][self.voc[word]] += 1 \n",
    "        return features"
   ]
  },
  {
   "cell_type": "code",
   "execution_count": 12,
   "id": "510f797b",
   "metadata": {},
   "outputs": [
    {
     "name": "stdout",
     "output_type": "stream",
     "text": [
      "9522\n"
     ]
    }
   ],
   "source": [
    "bow = BagOfWords()\n",
    "bow.CreateVoc(training_data)\n",
    "print(len(bow.voc))"
   ]
  },
  {
   "cell_type": "code",
   "execution_count": 20,
   "id": "217ed162",
   "metadata": {},
   "outputs": [
    {
     "name": "stdout",
     "output_type": "stream",
     "text": [
      "[[1. 1. 1. ... 0. 0. 0.]\n",
      " [0. 0. 0. ... 0. 0. 0.]\n",
      " [0. 0. 0. ... 0. 0. 0.]\n",
      " ...\n",
      " [0. 0. 0. ... 1. 1. 0.]\n",
      " [0. 0. 0. ... 0. 0. 1.]\n",
      " [0. 0. 0. ... 0. 0. 0.]]\n",
      "[[0. 0. 1. ... 0. 0. 0.]\n",
      " [0. 0. 0. ... 0. 0. 0.]\n",
      " [0. 0. 0. ... 0. 0. 0.]\n",
      " ...\n",
      " [0. 0. 0. ... 0. 0. 0.]\n",
      " [0. 0. 0. ... 0. 0. 0.]\n",
      " [0. 0. 0. ... 0. 0. 0.]]\n"
     ]
    }
   ],
   "source": [
    "x_train = bow.GetFeatures(training_data)\n",
    "x_test = bow.GetFeatures(test_data)\n",
    "\n",
    "print(x_train)\n",
    "print(x_test)"
   ]
  },
  {
   "cell_type": "code",
   "execution_count": 19,
   "id": "66f1ae65",
   "metadata": {},
   "outputs": [
    {
     "name": "stdout",
     "output_type": "stream",
     "text": [
      "[[0.35355339 0.35355339 0.35355339 ... 0.         0.         0.        ]\n",
      " [0.         0.         0.         ... 0.         0.         0.        ]\n",
      " [0.         0.         0.         ... 0.         0.         0.        ]\n",
      " ...\n",
      " [0.         0.         0.         ... 0.19611614 0.19611614 0.        ]\n",
      " [0.         0.         0.         ... 0.         0.         0.33333333]\n",
      " [0.         0.         0.         ... 0.         0.         0.        ]]\n",
      "[[0.  0.  0.5 ... 0.  0.  0. ]\n",
      " [0.  0.  0.  ... 0.  0.  0. ]\n",
      " [0.  0.  0.  ... 0.  0.  0. ]\n",
      " ...\n",
      " [0.  0.  0.  ... 0.  0.  0. ]\n",
      " [0.  0.  0.  ... 0.  0.  0. ]\n",
      " [0.  0.  0.  ... 0.  0.  0. ]]\n"
     ]
    }
   ],
   "source": [
    "scaled_train, scaled_test = normalize_data(x_train, x_test, 'l2')\n",
    "print(scaled_train)\n",
    "print(scaled_test)"
   ]
  },
  {
   "cell_type": "code",
   "execution_count": 15,
   "id": "a4c18289",
   "metadata": {},
   "outputs": [
    {
     "data": {
      "text/plain": [
       "SVC(C=10, kernel='linear')"
      ]
     },
     "execution_count": 15,
     "metadata": {},
     "output_type": "execute_result"
    }
   ],
   "source": [
    "# Pt proeict: Cum alegem combinatia (C, kernel)? la fel ca la (k, metoda): Luam mai multe combinatii, afisam cat a dat\n",
    "# pt fiecare si spunem care din alea ar fi mai buna -> pe aia o luam.\n",
    "svmClf = svm.SVC(C = 10, kernel = 'linear')\n",
    "svmClf.fit(scaled_train, training_labels)"
   ]
  },
  {
   "cell_type": "code",
   "execution_count": 16,
   "id": "1e5d64a7",
   "metadata": {},
   "outputs": [],
   "source": [
    "predicted = svmClf.predict(scaled_test)"
   ]
  },
  {
   "cell_type": "code",
   "execution_count": 17,
   "id": "0587e5a4",
   "metadata": {},
   "outputs": [
    {
     "name": "stdout",
     "output_type": "stream",
     "text": [
      "0.9891304347826086\n"
     ]
    }
   ],
   "source": [
    "print(accuracy_score(predicted, test_labels))"
   ]
  },
  {
   "cell_type": "code",
   "execution_count": 18,
   "id": "e4c3c394",
   "metadata": {},
   "outputs": [
    {
     "name": "stdout",
     "output_type": "stream",
     "text": [
      "[0 0 1 ... 0 0 0]\n"
     ]
    }
   ],
   "source": [
    "print(training_labels)"
   ]
  },
  {
   "cell_type": "code",
   "execution_count": null,
   "id": "421ce96b",
   "metadata": {},
   "outputs": [],
   "source": []
  }
 ],
 "metadata": {
  "kernelspec": {
   "display_name": "Python 3 (ipykernel)",
   "language": "python",
   "name": "python3"
  },
  "language_info": {
   "codemirror_mode": {
    "name": "ipython",
    "version": 3
   },
   "file_extension": ".py",
   "mimetype": "text/x-python",
   "name": "python",
   "nbconvert_exporter": "python",
   "pygments_lexer": "ipython3",
   "version": "3.9.7"
  }
 },
 "nbformat": 4,
 "nbformat_minor": 5
}
