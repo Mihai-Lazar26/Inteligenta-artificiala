{
 "cells": [
  {
   "cell_type": "code",
   "execution_count": 2,
   "id": "258aba78",
   "metadata": {},
   "outputs": [],
   "source": [
    "from sklearn.neural_network import MLPClassifier # importul clasei \n",
    "from sklearn import preprocessing\n",
    "\n",
    "import numpy as np"
   ]
  },
  {
   "cell_type": "code",
   "execution_count": 3,
   "id": "9816090b",
   "metadata": {},
   "outputs": [],
   "source": [
    "x_train = np.loadtxt('./data/MNIST/train_images.txt')\n",
    "y_train = np.loadtxt('./data/MNIST/train_labels.txt', 'int')\n",
    "x_test = np.loadtxt('./data/MNIST/test_images.txt', 'int')\n",
    "y_test = np.loadtxt('./data/MNIST/test_labels.txt', 'int')"
   ]
  },
  {
   "cell_type": "code",
   "execution_count": 4,
   "id": "209e3fe6",
   "metadata": {},
   "outputs": [],
   "source": [
    "scaler = preprocessing.StandardScaler()\n",
    "scaler.fit(x_train)\n",
    "scaled_x_train = scaler.transform(x_train)\n",
    "scaled_x_test = scaler.transform(x_test)"
   ]
  },
  {
   "cell_type": "code",
   "execution_count": null,
   "id": "04311063",
   "metadata": {},
   "outputs": [],
   "source": []
  },
  {
   "cell_type": "code",
   "execution_count": 5,
   "id": "0d1e4bc9",
   "metadata": {},
   "outputs": [],
   "source": [
    "def train_model(model, x, y, x_test, y_test):\n",
    "    model.fit(x, y)\n",
    "    acc_train = model.score(x, y)\n",
    "    acc_test = model.score(x_test, y_test)\n",
    "    print(\"Accuratete pe antrenare: {}\".format(acc_train))\n",
    "    print(\"Accuratete pe testare: {}\".format(acc_test))\n",
    "    print(\"Numarul de iteratii: {}\".format(model.n_iter_))"
   ]
  },
  {
   "cell_type": "code",
   "execution_count": 6,
   "id": "42ce3e02",
   "metadata": {},
   "outputs": [
    {
     "name": "stdout",
     "output_type": "stream",
     "text": [
      "Accuratete pe antrenare: 1.0\n",
      "Accuratete pe testare: 0.818\n",
      "Numarul de iteratii: 133\n"
     ]
    }
   ],
   "source": [
    "model = MLPClassifier(activation = 'relu', hidden_layer_sizes=(100, 100), learning_rate_init=0.01, momentum=0.9, max_iter=2000, alpha=0.005)\n",
    "train_model(model, x_train, y_train, x_test, y_test)"
   ]
  },
  {
   "cell_type": "code",
   "execution_count": 8,
   "id": "41886597",
   "metadata": {},
   "outputs": [
    {
     "name": "stdout",
     "output_type": "stream",
     "text": [
      "Accuratete pe antrenare: 0.12\n",
      "Accuratete pe testare: 0.104\n",
      "Numarul de iteratii: 25\n"
     ]
    }
   ],
   "source": [
    "model = MLPClassifier(activation = 'tanh', hidden_layer_sizes=(1), learning_rate_init=0.01, momentum=0, max_iter=200)\n",
    "train_model(model, x_train, y_train, x_test, y_test)"
   ]
  },
  {
   "cell_type": "code",
   "execution_count": 9,
   "id": "d4a0c4cf",
   "metadata": {},
   "outputs": [
    {
     "name": "stdout",
     "output_type": "stream",
     "text": [
      "Accuratete pe antrenare: 0.548\n",
      "Accuratete pe testare: 0.52\n",
      "Numarul de iteratii: 43\n"
     ]
    }
   ],
   "source": [
    "model = MLPClassifier(activation = 'tanh', hidden_layer_sizes=(10), learning_rate_init=0.01, momentum=0, max_iter=200)\n",
    "train_model(model, x_train, y_train, x_test, y_test)"
   ]
  },
  {
   "cell_type": "code",
   "execution_count": 10,
   "id": "08e2f79a",
   "metadata": {},
   "outputs": [
    {
     "name": "stdout",
     "output_type": "stream",
     "text": [
      "Accuratete pe antrenare: 0.164\n",
      "Accuratete pe testare: 0.152\n",
      "Numarul de iteratii: 63\n"
     ]
    }
   ],
   "source": [
    "model = MLPClassifier(activation = 'tanh', hidden_layer_sizes=(1), learning_rate_init=0.00001, momentum=0, max_iter=200)\n",
    "train_model(model, x_train, y_train, x_test, y_test)"
   ]
  },
  {
   "cell_type": "code",
   "execution_count": 11,
   "id": "258e0d23",
   "metadata": {},
   "outputs": [
    {
     "name": "stdout",
     "output_type": "stream",
     "text": [
      "Accuratete pe antrenare: 0.12\n",
      "Accuratete pe testare: 0.104\n",
      "Numarul de iteratii: 35\n"
     ]
    }
   ],
   "source": [
    "model = MLPClassifier(activation = 'tanh', hidden_layer_sizes=(1), learning_rate_init=10, momentum=0, max_iter=200)\n",
    "train_model(model, x_train, y_train, x_test, y_test)"
   ]
  },
  {
   "cell_type": "code",
   "execution_count": null,
   "id": "aa61b306",
   "metadata": {},
   "outputs": [],
   "source": []
  }
 ],
 "metadata": {
  "kernelspec": {
   "display_name": "Python 3 (ipykernel)",
   "language": "python",
   "name": "python3"
  },
  "language_info": {
   "codemirror_mode": {
    "name": "ipython",
    "version": 3
   },
   "file_extension": ".py",
   "mimetype": "text/x-python",
   "name": "python",
   "nbconvert_exporter": "python",
   "pygments_lexer": "ipython3",
   "version": "3.9.7"
  }
 },
 "nbformat": 4,
 "nbformat_minor": 5
}
